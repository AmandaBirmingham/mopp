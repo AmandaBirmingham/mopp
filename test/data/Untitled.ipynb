{
 "cells": [
  {
   "cell_type": "code",
   "execution_count": 1,
   "id": "38da4864-6473-41c5-a714-07bb8f7d7ebc",
   "metadata": {},
   "outputs": [],
   "source": [
    "import pandas as pd"
   ]
  },
  {
   "cell_type": "code",
   "execution_count": 5,
   "id": "1abfb2fb-7582-4b19-af13-714e055eeb2e",
   "metadata": {},
   "outputs": [],
   "source": [
    "md_df = pd.read_csv(\"metadata.tsv\", sep='\\t', low_memory=False)"
   ]
  },
  {
   "cell_type": "code",
   "execution_count": 6,
   "id": "764332cb-829d-4628-bd64-d14d4beb30c6",
   "metadata": {},
   "outputs": [
    {
     "data": {
      "text/html": [
       "<div>\n",
       "<style scoped>\n",
       "    .dataframe tbody tr th:only-of-type {\n",
       "        vertical-align: middle;\n",
       "    }\n",
       "\n",
       "    .dataframe tbody tr th {\n",
       "        vertical-align: top;\n",
       "    }\n",
       "\n",
       "    .dataframe thead th {\n",
       "        text-align: right;\n",
       "    }\n",
       "</style>\n",
       "<table border=\"1\" class=\"dataframe\">\n",
       "  <thead>\n",
       "    <tr style=\"text-align: right;\">\n",
       "      <th></th>\n",
       "      <th>sample_name</th>\n",
       "      <th>identifier</th>\n",
       "      <th>omic</th>\n",
       "      <th>strand</th>\n",
       "    </tr>\n",
       "  </thead>\n",
       "  <tbody>\n",
       "    <tr>\n",
       "      <th>0</th>\n",
       "      <td>1-1_t2_metaRS_S13_L004_R1_001.250k.fastq.gz</td>\n",
       "      <td>1-1_t2</td>\n",
       "      <td>metaRS</td>\n",
       "      <td>R1</td>\n",
       "    </tr>\n",
       "    <tr>\n",
       "      <th>1</th>\n",
       "      <td>1-1_t2_metaT_S37_L004_R2_001.250k.fastq.gz</td>\n",
       "      <td>1-1_t2</td>\n",
       "      <td>metaT</td>\n",
       "      <td>R2</td>\n",
       "    </tr>\n",
       "    <tr>\n",
       "      <th>2</th>\n",
       "      <td>1-1_t2_metaT_S37_L004_R1_001.250k.fastq.gz</td>\n",
       "      <td>1-1_t2</td>\n",
       "      <td>metaT</td>\n",
       "      <td>R1</td>\n",
       "    </tr>\n",
       "    <tr>\n",
       "      <th>3</th>\n",
       "      <td>1-1_t2_metaG_S121_L004_R2_001.250k.fastq.gz</td>\n",
       "      <td>1-1_t2</td>\n",
       "      <td>metaG</td>\n",
       "      <td>R2</td>\n",
       "    </tr>\n",
       "    <tr>\n",
       "      <th>4</th>\n",
       "      <td>1-1_t2_metaG_S121_L004_R1_001.250k.fastq.gz</td>\n",
       "      <td>1-1_t2</td>\n",
       "      <td>metaG</td>\n",
       "      <td>R1</td>\n",
       "    </tr>\n",
       "  </tbody>\n",
       "</table>\n",
       "</div>"
      ],
      "text/plain": [
       "                                   sample_name identifier    omic strand\n",
       "0  1-1_t2_metaRS_S13_L004_R1_001.250k.fastq.gz     1-1_t2  metaRS     R1\n",
       "1   1-1_t2_metaT_S37_L004_R2_001.250k.fastq.gz     1-1_t2   metaT     R2\n",
       "2   1-1_t2_metaT_S37_L004_R1_001.250k.fastq.gz     1-1_t2   metaT     R1\n",
       "3  1-1_t2_metaG_S121_L004_R2_001.250k.fastq.gz     1-1_t2   metaG     R2\n",
       "4  1-1_t2_metaG_S121_L004_R1_001.250k.fastq.gz     1-1_t2   metaG     R1"
      ]
     },
     "execution_count": 6,
     "metadata": {},
     "output_type": "execute_result"
    }
   ],
   "source": [
    "md_df"
   ]
  },
  {
   "cell_type": "code",
   "execution_count": 7,
   "id": "ecc2c950-d81e-4909-a579-e1a47d8d9825",
   "metadata": {},
   "outputs": [],
   "source": [
    "md_df['new_col'] = md_df['identifier'] + \"_\" + md_df['omic'] + \"_\" + md_df['strand']"
   ]
  },
  {
   "cell_type": "code",
   "execution_count": 8,
   "id": "a83bcc7d-be34-4edb-ac94-53e31d16054f",
   "metadata": {},
   "outputs": [
    {
     "data": {
      "text/html": [
       "<div>\n",
       "<style scoped>\n",
       "    .dataframe tbody tr th:only-of-type {\n",
       "        vertical-align: middle;\n",
       "    }\n",
       "\n",
       "    .dataframe tbody tr th {\n",
       "        vertical-align: top;\n",
       "    }\n",
       "\n",
       "    .dataframe thead th {\n",
       "        text-align: right;\n",
       "    }\n",
       "</style>\n",
       "<table border=\"1\" class=\"dataframe\">\n",
       "  <thead>\n",
       "    <tr style=\"text-align: right;\">\n",
       "      <th></th>\n",
       "      <th>sample_name</th>\n",
       "      <th>identifier</th>\n",
       "      <th>omic</th>\n",
       "      <th>strand</th>\n",
       "      <th>new_col</th>\n",
       "    </tr>\n",
       "  </thead>\n",
       "  <tbody>\n",
       "    <tr>\n",
       "      <th>0</th>\n",
       "      <td>1-1_t2_metaRS_S13_L004_R1_001.250k.fastq.gz</td>\n",
       "      <td>1-1_t2</td>\n",
       "      <td>metaRS</td>\n",
       "      <td>R1</td>\n",
       "      <td>1-1_t2_metaRS_R1</td>\n",
       "    </tr>\n",
       "    <tr>\n",
       "      <th>1</th>\n",
       "      <td>1-1_t2_metaT_S37_L004_R2_001.250k.fastq.gz</td>\n",
       "      <td>1-1_t2</td>\n",
       "      <td>metaT</td>\n",
       "      <td>R2</td>\n",
       "      <td>1-1_t2_metaT_R2</td>\n",
       "    </tr>\n",
       "    <tr>\n",
       "      <th>2</th>\n",
       "      <td>1-1_t2_metaT_S37_L004_R1_001.250k.fastq.gz</td>\n",
       "      <td>1-1_t2</td>\n",
       "      <td>metaT</td>\n",
       "      <td>R1</td>\n",
       "      <td>1-1_t2_metaT_R1</td>\n",
       "    </tr>\n",
       "    <tr>\n",
       "      <th>3</th>\n",
       "      <td>1-1_t2_metaG_S121_L004_R2_001.250k.fastq.gz</td>\n",
       "      <td>1-1_t2</td>\n",
       "      <td>metaG</td>\n",
       "      <td>R2</td>\n",
       "      <td>1-1_t2_metaG_R2</td>\n",
       "    </tr>\n",
       "    <tr>\n",
       "      <th>4</th>\n",
       "      <td>1-1_t2_metaG_S121_L004_R1_001.250k.fastq.gz</td>\n",
       "      <td>1-1_t2</td>\n",
       "      <td>metaG</td>\n",
       "      <td>R1</td>\n",
       "      <td>1-1_t2_metaG_R1</td>\n",
       "    </tr>\n",
       "  </tbody>\n",
       "</table>\n",
       "</div>"
      ],
      "text/plain": [
       "                                   sample_name identifier    omic strand   \n",
       "0  1-1_t2_metaRS_S13_L004_R1_001.250k.fastq.gz     1-1_t2  metaRS     R1  \\\n",
       "1   1-1_t2_metaT_S37_L004_R2_001.250k.fastq.gz     1-1_t2   metaT     R2   \n",
       "2   1-1_t2_metaT_S37_L004_R1_001.250k.fastq.gz     1-1_t2   metaT     R1   \n",
       "3  1-1_t2_metaG_S121_L004_R2_001.250k.fastq.gz     1-1_t2   metaG     R2   \n",
       "4  1-1_t2_metaG_S121_L004_R1_001.250k.fastq.gz     1-1_t2   metaG     R1   \n",
       "\n",
       "            new_col  \n",
       "0  1-1_t2_metaRS_R1  \n",
       "1   1-1_t2_metaT_R2  \n",
       "2   1-1_t2_metaT_R1  \n",
       "3   1-1_t2_metaG_R2  \n",
       "4   1-1_t2_metaG_R1  "
      ]
     },
     "execution_count": 8,
     "metadata": {},
     "output_type": "execute_result"
    }
   ],
   "source": [
    "md_df"
   ]
  },
  {
   "cell_type": "code",
   "execution_count": 9,
   "id": "3c35e6cb-f422-49dd-bde7-01e0517be2a8",
   "metadata": {},
   "outputs": [
    {
     "data": {
      "text/plain": [
       "0    False\n",
       "1    False\n",
       "2    False\n",
       "3    False\n",
       "4    False\n",
       "Name: new_col, dtype: bool"
      ]
     },
     "execution_count": 9,
     "metadata": {},
     "output_type": "execute_result"
    }
   ],
   "source": [
    "md_df['new_col'].duplicated()"
   ]
  },
  {
   "cell_type": "code",
   "execution_count": 10,
   "id": "b0c8048c-e92b-4904-a2ef-14f4040c88f2",
   "metadata": {},
   "outputs": [],
   "source": [
    "md_df['sample_name'] = md_df['sample_name'].str.strip()\n",
    "md_df['identifier'] = md_df['identifier'].str.strip()\n",
    "md_df['strand'] = md_df['strand'].str.strip().str.lower()"
   ]
  },
  {
   "cell_type": "code",
   "execution_count": 13,
   "id": "20a9462f-48db-4175-a2fa-af481aed5520",
   "metadata": {},
   "outputs": [
    {
     "data": {
      "text/plain": [
       "5"
      ]
     },
     "execution_count": 13,
     "metadata": {},
     "output_type": "execute_result"
    }
   ],
   "source": [
    "md_df.shape[1]"
   ]
  },
  {
   "cell_type": "code",
   "execution_count": null,
   "id": "c15f0db0-0d66-421b-978e-a8d2ba5ca8d9",
   "metadata": {},
   "outputs": [],
   "source": []
  }
 ],
 "metadata": {
  "kernelspec": {
   "display_name": "Python 3 :: Miniconda",
   "language": "python",
   "name": "python3"
  },
  "language_info": {
   "codemirror_mode": {
    "name": "ipython",
    "version": 3
   },
   "file_extension": ".py",
   "mimetype": "text/x-python",
   "name": "python",
   "nbconvert_exporter": "python",
   "pygments_lexer": "ipython3",
   "version": "3.10.8"
  }
 },
 "nbformat": 4,
 "nbformat_minor": 5
}
